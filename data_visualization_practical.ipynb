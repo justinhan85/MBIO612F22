{
 "cells": [
  {
   "cell_type": "markdown",
   "metadata": {
    "id": "3U7i3eYcoOU4"
   },
   "source": [
    "**Question 1**\n",
    "\n",
    "* Provide at least two methods to view the number of of rows and the number of columsn in the `mpg` dataset\n"
   ]
  },
  {
   "cell_type": "code",
   "execution_count": 15,
   "metadata": {
    "colab": {
     "base_uri": "https://localhost:8080/",
     "height": 69
    },
    "id": "uzPA_bc2oagr",
    "outputId": "1ed2879c-c6fa-469e-aef7-f9d8d1b305ce"
   },
   "outputs": [
    {
     "data": {
      "text/html": [
       "<style>\n",
       ".list-inline {list-style: none; margin:0; padding: 0}\n",
       ".list-inline>li {display: inline-block}\n",
       ".list-inline>li:not(:last-child)::after {content: \"\\00b7\"; padding: 0 .5ex}\n",
       "</style>\n",
       "<ol class=list-inline><li>234</li><li>11</li></ol>\n"
      ],
      "text/latex": [
       "\\begin{enumerate*}\n",
       "\\item 234\n",
       "\\item 11\n",
       "\\end{enumerate*}\n"
      ],
      "text/markdown": [
       "1. 234\n",
       "2. 11\n",
       "\n",
       "\n"
      ],
      "text/plain": [
       "[1] 234  11"
      ]
     },
     "metadata": {},
     "output_type": "display_data"
    },
    {
     "name": "stdout",
     "output_type": "stream",
     "text": [
      "tibble [234 x 11] (S3: tbl_df/tbl/data.frame)\n",
      " $ manufacturer: chr [1:234] \"audi\" \"audi\" \"audi\" \"audi\" ...\n",
      " $ model       : chr [1:234] \"a4\" \"a4\" \"a4\" \"a4\" ...\n",
      " $ displ       : num [1:234] 1.8 1.8 2 2 2.8 2.8 3.1 1.8 1.8 2 ...\n",
      " $ year        : int [1:234] 1999 1999 2008 2008 1999 1999 2008 1999 1999 2008 ...\n",
      " $ cyl         : int [1:234] 4 4 4 4 6 6 6 4 4 4 ...\n",
      " $ trans       : chr [1:234] \"auto(l5)\" \"manual(m5)\" \"manual(m6)\" \"auto(av)\" ...\n",
      " $ drv         : chr [1:234] \"f\" \"f\" \"f\" \"f\" ...\n",
      " $ cty         : int [1:234] 18 21 20 21 16 18 18 18 16 20 ...\n",
      " $ hwy         : int [1:234] 29 29 31 30 26 26 27 26 25 28 ...\n",
      " $ fl          : chr [1:234] \"p\" \"p\" \"p\" \"p\" ...\n",
      " $ class       : chr [1:234] \"compact\" \"compact\" \"compact\" \"compact\" ...\n",
      "Rows: 234\n",
      "Columns: 11\n",
      "$ manufacturer \u001b[3m\u001b[90m<chr>\u001b[39m\u001b[23m \"audi\", \"audi\", \"audi\", \"audi\", \"audi\", \"audi\", \"audi\", \"~\n",
      "$ model        \u001b[3m\u001b[90m<chr>\u001b[39m\u001b[23m \"a4\", \"a4\", \"a4\", \"a4\", \"a4\", \"a4\", \"a4\", \"a4 quattro\", \"~\n",
      "$ displ        \u001b[3m\u001b[90m<dbl>\u001b[39m\u001b[23m 1.8, 1.8, 2.0, 2.0, 2.8, 2.8, 3.1, 1.8, 1.8, 2.0, 2.0, 2.~\n",
      "$ year         \u001b[3m\u001b[90m<int>\u001b[39m\u001b[23m 1999, 1999, 2008, 2008, 1999, 1999, 2008, 1999, 1999, 200~\n",
      "$ cyl          \u001b[3m\u001b[90m<int>\u001b[39m\u001b[23m 4, 4, 4, 4, 6, 6, 6, 4, 4, 4, 4, 6, 6, 6, 6, 6, 6, 8, 8, ~\n",
      "$ trans        \u001b[3m\u001b[90m<chr>\u001b[39m\u001b[23m \"auto(l5)\", \"manual(m5)\", \"manual(m6)\", \"auto(av)\", \"auto~\n",
      "$ drv          \u001b[3m\u001b[90m<chr>\u001b[39m\u001b[23m \"f\", \"f\", \"f\", \"f\", \"f\", \"f\", \"f\", \"4\", \"4\", \"4\", \"4\", \"4~\n",
      "$ cty          \u001b[3m\u001b[90m<int>\u001b[39m\u001b[23m 18, 21, 20, 21, 16, 18, 18, 18, 16, 20, 19, 15, 17, 17, 1~\n",
      "$ hwy          \u001b[3m\u001b[90m<int>\u001b[39m\u001b[23m 29, 29, 31, 30, 26, 26, 27, 26, 25, 28, 27, 25, 25, 25, 2~\n",
      "$ fl           \u001b[3m\u001b[90m<chr>\u001b[39m\u001b[23m \"p\", \"p\", \"p\", \"p\", \"p\", \"p\", \"p\", \"p\", \"p\", \"p\", \"p\", \"p~\n",
      "$ class        \u001b[3m\u001b[90m<chr>\u001b[39m\u001b[23m \"compact\", \"compact\", \"compact\", \"compact\", \"compact\", \"c~\n"
     ]
    }
   ],
   "source": [
    "library(dplyr)\n",
    "library(tidyverse)\n",
    "library(ggplot2)\n",
    "mpg_df <- mpg\n",
    "dim(mpg_df)\n",
    "str(mpg_df)\n",
    "glimpse(mpg_df)"
   ]
  },
  {
   "cell_type": "markdown",
   "metadata": {
    "id": "8xpQqLlvyi2X"
   },
   "source": [
    "**Question 2**\n",
    "\n",
    "* Run the following code:\n",
    "```R\n",
    "ggplot(data = mpg) + \n",
    "  geom_point(mapping = aes(x = displ, y = hwy, color = \"blue\"))\n",
    "```\n",
    "* What is wrong with the code. \n",
    "* Fix it so that the plot is displayed correctly."
   ]
  },
  {
   "cell_type": "code",
   "execution_count": 16,
   "metadata": {
    "colab": {
     "base_uri": "https://localhost:8080/",
     "height": 437
    },
    "id": "ZfwUBsDfzm0X",
    "outputId": "fffb0418-677c-4104-b968-a1e1d3f9aa6c"
   },
   "outputs": [
    {
     "data": {
      "image/png": "[encoded data removed]",
      "text/plain": [
       "plot without title"
      ]
     },
     "metadata": {
      "image/png": {
       "height": 420,
       "width": 420
      }
     },
     "output_type": "display_data"
    },
    {
     "data": {
      "image/png": "[encoded data removed]",
      "text/plain": [
       "plot without title"
      ]
     },
     "metadata": {
      "image/png": {
       "height": 420,
       "width": 420
      }
     },
     "output_type": "display_data"
    }
   ],
   "source": [
    "ggplot(data = mpg_df) + \n",
    "  geom_point(mapping = aes(x = displ, y = hwy, color = \"blue\"))\n",
    "\n",
    "#JH \"color\" arguments inside aes usually differentiate colors by groups. (i.e., color = manufacturer). Therefore, if you want colors of points to be blue, color = \"blue\" argument should be outside of the aesthetic layer.\n",
    "\n",
    "ggplot(data = mpg_df) + \n",
    "  geom_point(mapping = aes(x = displ, y = hwy), color = \"blue\")\n",
    "\n"
   ]
  },
  {
   "cell_type": "markdown",
   "metadata": {
    "id": "urMg2YztmJNI"
   },
   "source": [
    "**Question 3**\n",
    "\n",
    "* Change the code below so that mpg$class_numeric will be of type integer (int) rather than double (dbl)\n",
    "```R\n",
    "mpg$class_numeric = sapply(mpg$class, convert_class_int, USE.NAMES = FALSE)\n",
    "```\n",
    "* Inspect the result to make sure your solution worked"
   ]
  },
  {
   "cell_type": "code",
   "execution_count": 17,
   "metadata": {
    "colab": {
     "base_uri": "https://localhost:8080/"
    },
    "id": "lcT-7suVmJpM",
    "outputId": "a8386b73-1fc9-4b73-ac47-c34acd9f551d"
   },
   "outputs": [
    {
     "data": {
      "text/html": [
       "<style>\n",
       ".list-inline {list-style: none; margin:0; padding: 0}\n",
       ".list-inline>li {display: inline-block}\n",
       ".list-inline>li:not(:last-child)::after {content: \"\\00b7\"; padding: 0 .5ex}\n",
       "</style>\n",
       "<ol class=list-inline><li>2</li><li>3</li><li>7</li><li>1</li><li>4</li><li>5</li><li>6</li></ol>\n"
      ],
      "text/latex": [
       "\\begin{enumerate*}\n",
       "\\item 2\n",
       "\\item 3\n",
       "\\item 7\n",
       "\\item 1\n",
       "\\item 4\n",
       "\\item 5\n",
       "\\item 6\n",
       "\\end{enumerate*}\n"
      ],
      "text/markdown": [
       "1. 2\n",
       "2. 3\n",
       "3. 7\n",
       "4. 1\n",
       "5. 4\n",
       "6. 5\n",
       "7. 6\n",
       "\n",
       "\n"
      ],
      "text/plain": [
       "[1] 2 3 7 1 4 5 6"
      ]
     },
     "metadata": {},
     "output_type": "display_data"
    },
    {
     "data": {
      "text/html": [
       "TRUE"
      ],
      "text/latex": [
       "TRUE"
      ],
      "text/markdown": [
       "TRUE"
      ],
      "text/plain": [
       "[1] TRUE"
      ]
     },
     "metadata": {},
     "output_type": "display_data"
    }
   ],
   "source": [
    "class_ordered <- factor(mpg_df$class, ordered = TRUE)\n",
    "mpg_df$class_numeric = sapply(class_ordered, as.integer, USE.NAMES = FALSE)\n",
    "unique(mpg_df$class_numeric)\n",
    "is.integer(mpg_df$class_numeric)"
   ]
  },
  {
   "cell_type": "markdown",
   "metadata": {
    "id": "HYhPLiBNotuM"
   },
   "source": [
    "**Question 4** \n",
    "\n",
    "* Use a scatter plot to plot the variable `cty` (`x`-axis) and `hwy` (`y`-axis) of the `mpg` dataset\n",
    "* Add another geom that shows the liner regression between `x` and `y`\n",
    "  * The method for computing linear regression should be a linear model `lm` instead of the default (`loess`)\n",
    "  * Set the line color to `red`\n",
    "  * color the points by `class` \n",
    "  * set the points size to 6"
   ]
  },
  {
   "cell_type": "code",
   "execution_count": 18,
   "metadata": {
    "colab": {
     "base_uri": "https://localhost:8080/",
     "height": 474
    },
    "id": "JcE11tx0pFVD",
    "outputId": "828a9434-e779-47f0-b8a7-fb2497045be3"
   },
   "outputs": [
    {
     "name": "stderr",
     "output_type": "stream",
     "text": [
      "`geom_smooth()` using formula 'y ~ x'\n",
      "\n"
     ]
    },
    {
     "data": {
      "image/png": "[encoded data removed]",
      "text/plain": [
       "plot without title"
      ]
     },
     "metadata": {
      "image/png": {
       "height": 420,
       "width": 420
      }
     },
     "output_type": "display_data"
    }
   ],
   "source": [
    "ggplot(mpg, aes(cty, hwy)) +\n",
    "  geom_point(aes(color = class), size = 6) + \n",
    "  geom_smooth(method = \"lm\", color = \"red\")"
   ]
  },
  {
   "cell_type": "markdown",
   "metadata": {
    "id": "6Ylfz9w1pXu1"
   },
   "source": [
    "**Question 5** \n",
    "\n",
    "* You noticed in the previous plot that there exist in the dataset subcompacts that has a city fuel consumption of 15 miles per gallon.\n",
    "* Extract the manufacturer and model of these subcompacts\n",
    "  * results should only have these columnsa"
   ]
  },
  {
   "cell_type": "code",
   "execution_count": 19,
   "metadata": {
    "colab": {
     "base_uri": "https://localhost:8080/",
     "height": 255
    },
    "id": "9zENV78oroLC",
    "outputId": "ddc0059b-faf7-4733-ce96-6cffeac044ee"
   },
   "outputs": [
    {
     "data": {
      "text/html": [
       "<table class=\"dataframe\">\n",
       "<caption>A tibble: 24 × 2</caption>\n",
       "<thead>\n",
       "\t<tr><th scope=col>manufacturer</th><th scope=col>model</th></tr>\n",
       "\t<tr><th scope=col>&lt;chr&gt;</th><th scope=col>&lt;chr&gt;</th></tr>\n",
       "</thead>\n",
       "<tbody>\n",
       "\t<tr><td>audi     </td><td>a4 quattro        </td></tr>\n",
       "\t<tr><td>audi     </td><td>a4 quattro        </td></tr>\n",
       "\t<tr><td>audi     </td><td>a6 quattro        </td></tr>\n",
       "\t<tr><td>chevrolet</td><td>corvette          </td></tr>\n",
       "\t<tr><td>chevrolet</td><td>corvette          </td></tr>\n",
       "\t<tr><td>chevrolet</td><td>corvette          </td></tr>\n",
       "\t<tr><td>dodge    </td><td>caravan 2wd       </td></tr>\n",
       "\t<tr><td>dodge    </td><td>caravan 2wd       </td></tr>\n",
       "\t<tr><td>dodge    </td><td>dakota pickup 4wd </td></tr>\n",
       "\t<tr><td>ford     </td><td>explorer 4wd      </td></tr>\n",
       "\t<tr><td>ford     </td><td>mustang           </td></tr>\n",
       "\t<tr><td>ford     </td><td>mustang           </td></tr>\n",
       "\t<tr><td>ford     </td><td>mustang           </td></tr>\n",
       "\t<tr><td>ford     </td><td>mustang           </td></tr>\n",
       "\t<tr><td>jeep     </td><td>grand cherokee 4wd</td></tr>\n",
       "\t<tr><td>jeep     </td><td>grand cherokee 4wd</td></tr>\n",
       "\t<tr><td>nissan   </td><td>pathfinder 4wd    </td></tr>\n",
       "\t<tr><td>toyota   </td><td>4runner 4wd       </td></tr>\n",
       "\t<tr><td>toyota   </td><td>4runner 4wd       </td></tr>\n",
       "\t<tr><td>toyota   </td><td>4runner 4wd       </td></tr>\n",
       "\t<tr><td>toyota   </td><td>toyota tacoma 4wd </td></tr>\n",
       "\t<tr><td>toyota   </td><td>toyota tacoma 4wd </td></tr>\n",
       "\t<tr><td>toyota   </td><td>toyota tacoma 4wd </td></tr>\n",
       "\t<tr><td>toyota   </td><td>toyota tacoma 4wd </td></tr>\n",
       "</tbody>\n",
       "</table>\n"
      ],
      "text/latex": [
       "A tibble: 24 × 2\n",
       "\\begin{tabular}{ll}\n",
       " manufacturer & model\\\\\n",
       " <chr> & <chr>\\\\\n",
       "\\hline\n",
       "\t audi      & a4 quattro        \\\\\n",
       "\t audi      & a4 quattro        \\\\\n",
       "\t audi      & a6 quattro        \\\\\n",
       "\t chevrolet & corvette          \\\\\n",
       "\t chevrolet & corvette          \\\\\n",
       "\t chevrolet & corvette          \\\\\n",
       "\t dodge     & caravan 2wd       \\\\\n",
       "\t dodge     & caravan 2wd       \\\\\n",
       "\t dodge     & dakota pickup 4wd \\\\\n",
       "\t ford      & explorer 4wd      \\\\\n",
       "\t ford      & mustang           \\\\\n",
       "\t ford      & mustang           \\\\\n",
       "\t ford      & mustang           \\\\\n",
       "\t ford      & mustang           \\\\\n",
       "\t jeep      & grand cherokee 4wd\\\\\n",
       "\t jeep      & grand cherokee 4wd\\\\\n",
       "\t nissan    & pathfinder 4wd    \\\\\n",
       "\t toyota    & 4runner 4wd       \\\\\n",
       "\t toyota    & 4runner 4wd       \\\\\n",
       "\t toyota    & 4runner 4wd       \\\\\n",
       "\t toyota    & toyota tacoma 4wd \\\\\n",
       "\t toyota    & toyota tacoma 4wd \\\\\n",
       "\t toyota    & toyota tacoma 4wd \\\\\n",
       "\t toyota    & toyota tacoma 4wd \\\\\n",
       "\\end{tabular}\n"
      ],
      "text/markdown": [
       "\n",
       "A tibble: 24 × 2\n",
       "\n",
       "| manufacturer &lt;chr&gt; | model &lt;chr&gt; |\n",
       "|---|---|\n",
       "| audi      | a4 quattro         |\n",
       "| audi      | a4 quattro         |\n",
       "| audi      | a6 quattro         |\n",
       "| chevrolet | corvette           |\n",
       "| chevrolet | corvette           |\n",
       "| chevrolet | corvette           |\n",
       "| dodge     | caravan 2wd        |\n",
       "| dodge     | caravan 2wd        |\n",
       "| dodge     | dakota pickup 4wd  |\n",
       "| ford      | explorer 4wd       |\n",
       "| ford      | mustang            |\n",
       "| ford      | mustang            |\n",
       "| ford      | mustang            |\n",
       "| ford      | mustang            |\n",
       "| jeep      | grand cherokee 4wd |\n",
       "| jeep      | grand cherokee 4wd |\n",
       "| nissan    | pathfinder 4wd     |\n",
       "| toyota    | 4runner 4wd        |\n",
       "| toyota    | 4runner 4wd        |\n",
       "| toyota    | 4runner 4wd        |\n",
       "| toyota    | toyota tacoma 4wd  |\n",
       "| toyota    | toyota tacoma 4wd  |\n",
       "| toyota    | toyota tacoma 4wd  |\n",
       "| toyota    | toyota tacoma 4wd  |\n",
       "\n"
      ],
      "text/plain": [
       "   manufacturer model             \n",
       "1  audi         a4 quattro        \n",
       "2  audi         a4 quattro        \n",
       "3  audi         a6 quattro        \n",
       "4  chevrolet    corvette          \n",
       "5  chevrolet    corvette          \n",
       "6  chevrolet    corvette          \n",
       "7  dodge        caravan 2wd       \n",
       "8  dodge        caravan 2wd       \n",
       "9  dodge        dakota pickup 4wd \n",
       "10 ford         explorer 4wd      \n",
       "11 ford         mustang           \n",
       "12 ford         mustang           \n",
       "13 ford         mustang           \n",
       "14 ford         mustang           \n",
       "15 jeep         grand cherokee 4wd\n",
       "16 jeep         grand cherokee 4wd\n",
       "17 nissan       pathfinder 4wd    \n",
       "18 toyota       4runner 4wd       \n",
       "19 toyota       4runner 4wd       \n",
       "20 toyota       4runner 4wd       \n",
       "21 toyota       toyota tacoma 4wd \n",
       "22 toyota       toyota tacoma 4wd \n",
       "23 toyota       toyota tacoma 4wd \n",
       "24 toyota       toyota tacoma 4wd "
      ]
     },
     "metadata": {},
     "output_type": "display_data"
    }
   ],
   "source": [
    "mpg_cty15 <- subset(mpg, mpg$cty == 15, manufacturer:model)\n",
    "mpg_cty15"
   ]
  },
  {
   "cell_type": "markdown",
   "metadata": {
    "id": "cabxcvjOryiB"
   },
   "source": [
    "**Question 6**\n",
    "\n",
    "* The following generates a warning\n",
    "```R\n",
    "ggplot(data = mpg) + \n",
    "  geom_point(mapping = aes(x = displ, y = hwy, shape = class))\n",
    "```\n",
    "\n",
    "* How can you fix that the code so all classes are displayed\n",
    "* Hint: you can manually specify your own values for the shapes to use using `scale_shape_manual` geom.  You can select any of the [following shapes](https://ggplot2.tidyverse.org/articles/ggplot2-specs_files/figure-html/unnamed-chunk-7-1.png)"
   ]
  },
  {
   "cell_type": "code",
   "execution_count": 20,
   "metadata": {
    "colab": {
     "base_uri": "https://localhost:8080/",
     "height": 437
    },
    "id": "jpAZlmBKt04R",
    "outputId": "de84a514-acd9-4682-f68a-6695893670c1"
   },
   "outputs": [
    {
     "data": {
      "image/png": "[encoded data removed]",
      "text/plain": [
       "plot without title"
      ]
     },
     "metadata": {
      "image/png": {
       "height": 420,
       "width": 420
      }
     },
     "output_type": "display_data"
    }
   ],
   "source": [
    "ggplot(data = mpg) + \n",
    "  geom_point(mapping = aes(x = displ, y = hwy, shape = class)) +\n",
    "               scale_shape_manual(values = rep(5:12))"
   ]
  },
  {
   "cell_type": "markdown",
   "metadata": {
    "id": "Be9pMmP41ih4"
   },
   "source": [
    "**Question 7**\n",
    "\n",
    "* Given the following two vectors\n",
    "\n",
    "```R\n",
    "x <- c(3.385,0.48,1.35,465,36.33,27.66,14.83,1.04,4.19,0.425,0.101,0.92,1,0.005,0.06,3.5,2,1.7,2547,0.023,187.1,521,0.785,10,3.3,0.2,1.41,529,207,85,0.75,62,6654,3.5,6.8,35,4.05,0.12,0.023,0.01,1.4,250,2.5,55.5,100,52.16,10.55,0.55,60,3.6,4.288,0.28,0.075,0.122,0.048,192,3,160,0.9,1.62,0.104,4.235)\n",
    "y <- c(44.5,15.5,8.1,423,119.5,115,98.2,5.5,58,6.4,4,5.7,6.6,0.14,1,10.8,12.3,6.3,4603,0.3,419,655,3.5,115,25.6,5,17.5,680,406,325,12.3,1320,5712,3.9,179,56,17,1,0.4,0.25,12.5,490,12.1,175,157,440,179.5,2.4,81,21,39.2,1.9,1.2,3,0.33,180,25,169,2.6,11.4,2.5,50.4)\n",
    "```\n",
    "* Combine the two vectors into a data frame called `sizeMass`\n",
    "  * Name the columns containing the vectors `x` and `y` as `size` and `mass` respectively \n",
    "\n",
    "* Use the code below to plot the data\n",
    "  * If you followed the above instructions the code should work without modification\n",
    "\n",
    "```R\n",
    "ggplot(sizeMass, aes(size, mass)) +\n",
    "  geom_point() +\n",
    "  geom_smooth(method = \"lm\", color = \"red\", se = FALSE)\n",
    "\n",
    "```  \n"
   ]
  },
  {
   "cell_type": "code",
   "execution_count": 21,
   "metadata": {
    "colab": {
     "base_uri": "https://localhost:8080/",
     "height": 474
    },
    "id": "a8SmKZt54L1x",
    "outputId": "3f6294f6-48fb-480d-f5ea-a89404f0f1fd"
   },
   "outputs": [
    {
     "name": "stderr",
     "output_type": "stream",
     "text": [
      "`geom_smooth()` using formula 'y ~ x'\n",
      "\n"
     ]
    },
    {
     "data": {
      "image/png": "[encoded data removed]",
      "text/plain": [
       "plot without title"
      ]
     },
     "metadata": {
      "image/png": {
       "height": 420,
       "width": 420
      }
     },
     "output_type": "display_data"
    }
   ],
   "source": [
    "x <- c(3.385,0.48,1.35,465,36.33,27.66,14.83,1.04,4.19,0.425,0.101,0.92,1,0.005,0.06,3.5,2,1.7,2547,0.023,187.1,521,0.785,10,3.3,0.2,1.41,529,207,85,0.75,62,6654,3.5,6.8,35,4.05,0.12,0.023,0.01,1.4,250,2.5,55.5,100,52.16,10.55,0.55,60,3.6,4.288,0.28,0.075,0.122,0.048,192,3,160,0.9,1.62,0.104,4.235)\n",
    "y <- c(44.5,15.5,8.1,423,119.5,115,98.2,5.5,58,6.4,4,5.7,6.6,0.14,1,10.8,12.3,6.3,4603,0.3,419,655,3.5,115,25.6,5,17.5,680,406,325,12.3,1320,5712,3.9,179,56,17,1,0.4,0.25,12.5,490,12.1,175,157,440,179.5,2.4,81,21,39.2,1.9,1.2,3,0.33,180,25,169,2.6,11.4,2.5,50.4)\n",
    "\n",
    "sizeMass <- data.frame(x, y)\n",
    "colnames(sizeMass) <- c(\"size\", \"mass\")\n",
    "\n",
    "ggplot(sizeMass, aes(size, mass)) +\n",
    "  geom_point() +\n",
    "  geom_smooth(method = \"lm\", color = \"red\", se = FALSE)\n",
    "\n"
   ]
  },
  {
   "cell_type": "markdown",
   "metadata": {
    "id": "eZMMckVz4gZa"
   },
   "source": [
    "**Question 8** \n",
    "\n",
    "* In the above, the data is \"squashed\" because the data range varies substantially across observations. One way to fix this is by computing the log of the data. We will do that using two different approaches\n",
    "\n",
    "1. add two new columns called them `size_log10` and `mass_log` that represent the log 10 values of the `size` and `mass` columns. Then, reuse the plotting code above by replacing `size` and `mass` with `size_log10` and `mass_log10` respectively\n",
    "  * Hint `log10()` can take as input a single value or a vector\n",
    "\n",
    "2. Use the `scale_x_log10()` and `scale_y_log10()` to set different scales for the `x` and `y` aesthetics\n",
    "  * Simply add these transforms to the initial snippet of code prior to plotting `geom_point` or `geom_smooth`"
   ]
  },
  {
   "cell_type": "code",
   "execution_count": 22,
   "metadata": {
    "colab": {
     "base_uri": "https://localhost:8080/",
     "height": 414
    },
    "id": "-TEqSRPO5oFC",
    "outputId": "d5859450-be15-4c5e-9721-840a4f953702"
   },
   "outputs": [
    {
     "name": "stderr",
     "output_type": "stream",
     "text": [
      "`geom_smooth()` using formula 'y ~ x'\n",
      "\n",
      "`geom_smooth()` using formula 'y ~ x'\n",
      "\n"
     ]
    },
    {
     "data": {
      "image/png": "[encoded data removed]",
      "text/plain": [
       "plot without title"
      ]
     },
     "metadata": {
      "image/png": {
       "height": 420,
       "width": 420
      }
     },
     "output_type": "display_data"
    },
    {
     "name": "stderr",
     "output_type": "stream",
     "text": [
      "`geom_smooth()` using formula 'y ~ x'\n",
      "\n"
     ]
    },
    {
     "data": {
      "image/png": "[encoded data removed]",
      "text/plain": [
       "plot without title"
      ]
     },
     "metadata": {
      "image/png": {
       "height": 420,
       "width": 420
      }
     },
     "output_type": "display_data"
    },
    {
     "data": {
      "image/png": "[encoded data removed]",
      "text/plain": [
       "plot without title"
      ]
     },
     "metadata": {
      "image/png": {
       "height": 420,
       "width": 420
      }
     },
     "output_type": "display_data"
    }
   ],
   "source": [
    "# method 1\n",
    "size_log10 <- log10(sizeMass$size)\n",
    "mass_log <- log10(sizeMass$mass)\n",
    "sizeMass1 <- cbind(sizeMass, size_log10, mass_log)\n",
    "\n",
    "ggplot(sizeMass1, aes(size_log10,mass_log)) +\n",
    "  geom_point()+\n",
    "  geom_smooth(method = \"lm\", color = \"red\", se = FALSE)\n",
    "\n",
    "\n",
    "# method 2\n",
    "ggplot(sizeMass, aes(size,mass)) +\n",
    "  geom_point()+ scale_x_log10()+ scale_y_log10() + \n",
    "  geom_smooth(method = \"lm\", color = \"red\", se = FALSE)\n",
    "\n",
    "\n",
    "# method 3\n",
    "ggplot(sizeMass, aes(log10(size),log10(mass))) +\n",
    "  geom_point()+\n",
    "  geom_smooth(method = \"lm\", color = \"red\", se = FALSE)"
   ]
  },
  {
   "cell_type": "code",
   "execution_count": null,
   "metadata": {},
   "outputs": [],
   "source": []
  }
 ],
 "metadata": {
  "colab": {
   "collapsed_sections": [
    "TyQb7VZiLVew",
    "jTuSNzgvML1p",
    "LLXi2YevS_SL",
    "PQd55qyJW3w3",
    "IFcaA1lJWiSD",
    "X0tu1wmr9RrW",
    "pFqdJYoSYgg9",
    "lb33xguQb8Oy",
    "5Q-EXdPQkH78",
    "sOmfzErKnreX",
    "gu18MgwA7ql8",
    "-ojtBSIJHtX4"
   ],
   "name": "Untitled6.ipynb",
   "provenance": [],
   "toc_visible": true
  },
  "kernelspec": {
   "display_name": "R",
   "language": "R",
   "name": "ir"
  },
  "language_info": {
   "codemirror_mode": "r",
   "file_extension": ".r",
   "mimetype": "text/x-r-source",
   "name": "R",
   "pygments_lexer": "r",
   "version": "4.1.3"
  }
 },
 "nbformat": 4,
 "nbformat_minor": 1
}
