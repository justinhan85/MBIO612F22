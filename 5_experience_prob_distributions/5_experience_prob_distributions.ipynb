{
 "cells": [
  {
   "cell_type": "code",
   "execution_count": 7,
   "id": "de0b52d1",
   "metadata": {
    "pycharm": {
     "name": "#%%\n"
    }
   },
   "outputs": [],
   "source": [
    "library(tidyverse)\n",
    "library(ggplot2 )\n",
    "library(dplyr)\n",
    "library(tibble)\n",
    "library(assertthat)\n",
    "library(tidyr)"
   ]
  },
  {
   "cell_type": "markdown",
   "id": "526a84d8",
   "metadata": {
    "pycharm": {
     "name": "#%% md\n"
    }
   },
   "source": [
    "### Q0\n",
    "\n",
    "* Draw a concepts diagram that uses all the following terminology covered in this module\n",
    "\n",
    "* Probability mass function, outcome, expriment, sample space, Gaussian, probanility mass funciton, probability distribution, binomial, maximum likelyhood, parameters, mean and variance, lambda, sample, p-value"
   ]
  },
  {
   "cell_type": "code",
   "execution_count": 1,
   "id": "ef2e6b4d",
   "metadata": {
    "pycharm": {
     "name": "#%%\n"
    }
   },
   "outputs": [],
   "source": [
    "### Write your code here\n",
    "\n"
   ]
  },
  {
   "cell_type": "markdown",
   "id": "b4207bca",
   "metadata": {
    "pycharm": {
     "name": "#%% md\n"
    }
   },
   "source": [
    "###  Q1\n",
    "Write a function that returns the sample space for the experiment consisting of samplign a 4 digit PIN\n",
    "  * Call your function get_all_perms\n",
    "\n",
    "  * Essentially, your function does not take any arguments but returns the sample space consisting of all the four digit numbers\n",
    "   \n",
    "  * The function `expand.grid` expand.grid creates a data frame from all combinations of the supplied vectors or factors. For example:\n",
    " \n",
    "  ```expand.grid(0:1, 0:1, 0:1)```\n",
    "\n",
    "* generates  \n",
    "\n",
    "![](https://www.dropbox.com/s/cnlt4fg8rxd01d6/expand.grid.png?dl=1)\n",
    " \n",
    "\n",
    "* Strategy, use `expand.grid` to generate the permutation for four verctation in the range 0:9\n",
    "  * Return the number of rows in that `data.frame`\n",
    "\n",
    "  "
   ]
  },
  {
   "cell_type": "code",
   "execution_count": 8,
   "id": "e559210c",
   "metadata": {
    "pycharm": {
     "name": "#%%\n"
    }
   },
   "outputs": [
    {
     "data": {
      "text/html": [
       "10000"
      ],
      "text/latex": [
       "10000"
      ],
      "text/markdown": [
       "10000"
      ],
      "text/plain": [
       "[1] 10000"
      ]
     },
     "metadata": {},
     "output_type": "display_data"
    }
   ],
   "source": [
    "sample_space <- expand.grid(0:9,0:9,0:9,0:9)\n",
    "get_all_perms <- function(x) {\n",
    "  return(nrow(sample_space))\n",
    "}\n",
    "\n",
    "get_all_perms()"
   ]
  },
  {
   "cell_type": "markdown",
   "id": "7b5f5dec",
   "metadata": {
    "pycharm": {
     "name": "#%% md\n"
    }
   },
   "source": [
    "###  Q2\n",
    "\n",
    "The function above is not very useful since it always computes the same thing, namely the number of possible permutation of digits. One way to make it more useful is by passing as an argument the number of digits to consider, i.e., the number of columns in `expand.grid`. Let;s call that param `size`, which by default should be `4`. For exmaple:\n",
    "\n",
    "*  `get_all_perms(size = 1 )` will return all the number of size 1 (0-9)\n",
    "*  `get_all_perms(size = 3 )` will return all the permutations of size 3 (000 - to 999)\n",
    "\n",
    "\n",
    "* Hint: `expand.grid` requires the number of input parameters to match the permutation length. We need to automate that so that the number of vectors passed as input matches the `size` values passed into `get_all_perms`\n",
    "  * We can do that using `replicate`\n",
    "  * `replicate(2, c(1,2,3), simplify=FALSE)` will repeat the vector `c(1,2,3)` twice\n",
    "    * We need to pass `replicate` the value `simplify=FALSE` so that it does not convert the output for us into a matrix\n",
    "  * Use pipe (`%>%`) pass the output of `replicate` into expand.grid\n",
    "  * Make sure replicated generate the correct input for exand.grid\n",
    "  "
   ]
  },
  {
   "cell_type": "markdown",
   "id": "1d4c5c41",
   "metadata": {},
   "source": [
    "size = number of columns in expand.grid"
   ]
  },
  {
   "cell_type": "code",
   "execution_count": 9,
   "id": "a45bbd1d",
   "metadata": {
    "pycharm": {
     "name": "#%%\n"
    },
    "scrolled": true
   },
   "outputs": [
    {
     "data": {
      "text/html": [
       "<table class=\"dataframe\">\n",
       "<caption>A data.frame: 10 × 1</caption>\n",
       "<thead>\n",
       "\t<tr><th scope=col>Var1</th></tr>\n",
       "\t<tr><th scope=col>&lt;int&gt;</th></tr>\n",
       "</thead>\n",
       "<tbody>\n",
       "\t<tr><td>0</td></tr>\n",
       "\t<tr><td>1</td></tr>\n",
       "\t<tr><td>2</td></tr>\n",
       "\t<tr><td>3</td></tr>\n",
       "\t<tr><td>4</td></tr>\n",
       "\t<tr><td>5</td></tr>\n",
       "\t<tr><td>6</td></tr>\n",
       "\t<tr><td>7</td></tr>\n",
       "\t<tr><td>8</td></tr>\n",
       "\t<tr><td>9</td></tr>\n",
       "</tbody>\n",
       "</table>\n"
      ],
      "text/latex": [
       "A data.frame: 10 × 1\n",
       "\\begin{tabular}{l}\n",
       " Var1\\\\\n",
       " <int>\\\\\n",
       "\\hline\n",
       "\t 0\\\\\n",
       "\t 1\\\\\n",
       "\t 2\\\\\n",
       "\t 3\\\\\n",
       "\t 4\\\\\n",
       "\t 5\\\\\n",
       "\t 6\\\\\n",
       "\t 7\\\\\n",
       "\t 8\\\\\n",
       "\t 9\\\\\n",
       "\\end{tabular}\n"
      ],
      "text/markdown": [
       "\n",
       "A data.frame: 10 × 1\n",
       "\n",
       "| Var1 &lt;int&gt; |\n",
       "|---|\n",
       "| 0 |\n",
       "| 1 |\n",
       "| 2 |\n",
       "| 3 |\n",
       "| 4 |\n",
       "| 5 |\n",
       "| 6 |\n",
       "| 7 |\n",
       "| 8 |\n",
       "| 9 |\n",
       "\n"
      ],
      "text/plain": [
       "   Var1\n",
       "1  0   \n",
       "2  1   \n",
       "3  2   \n",
       "4  3   \n",
       "5  4   \n",
       "6  5   \n",
       "7  6   \n",
       "8  7   \n",
       "9  8   \n",
       "10 9   "
      ]
     },
     "metadata": {},
     "output_type": "display_data"
    },
    {
     "data": {
      "text/html": [
       "<table class=\"dataframe\">\n",
       "<caption>A data.frame: 20 × 4</caption>\n",
       "<thead>\n",
       "\t<tr><th></th><th scope=col>Var1</th><th scope=col>Var2</th><th scope=col>Var3</th><th scope=col>Var4</th></tr>\n",
       "\t<tr><th></th><th scope=col>&lt;int&gt;</th><th scope=col>&lt;int&gt;</th><th scope=col>&lt;int&gt;</th><th scope=col>&lt;int&gt;</th></tr>\n",
       "</thead>\n",
       "<tbody>\n",
       "\t<tr><th scope=row>9981</th><td>0</td><td>8</td><td>9</td><td>9</td></tr>\n",
       "\t<tr><th scope=row>9982</th><td>1</td><td>8</td><td>9</td><td>9</td></tr>\n",
       "\t<tr><th scope=row>9983</th><td>2</td><td>8</td><td>9</td><td>9</td></tr>\n",
       "\t<tr><th scope=row>9984</th><td>3</td><td>8</td><td>9</td><td>9</td></tr>\n",
       "\t<tr><th scope=row>9985</th><td>4</td><td>8</td><td>9</td><td>9</td></tr>\n",
       "\t<tr><th scope=row>9986</th><td>5</td><td>8</td><td>9</td><td>9</td></tr>\n",
       "\t<tr><th scope=row>9987</th><td>6</td><td>8</td><td>9</td><td>9</td></tr>\n",
       "\t<tr><th scope=row>9988</th><td>7</td><td>8</td><td>9</td><td>9</td></tr>\n",
       "\t<tr><th scope=row>9989</th><td>8</td><td>8</td><td>9</td><td>9</td></tr>\n",
       "\t<tr><th scope=row>9990</th><td>9</td><td>8</td><td>9</td><td>9</td></tr>\n",
       "\t<tr><th scope=row>9991</th><td>0</td><td>9</td><td>9</td><td>9</td></tr>\n",
       "\t<tr><th scope=row>9992</th><td>1</td><td>9</td><td>9</td><td>9</td></tr>\n",
       "\t<tr><th scope=row>9993</th><td>2</td><td>9</td><td>9</td><td>9</td></tr>\n",
       "\t<tr><th scope=row>9994</th><td>3</td><td>9</td><td>9</td><td>9</td></tr>\n",
       "\t<tr><th scope=row>9995</th><td>4</td><td>9</td><td>9</td><td>9</td></tr>\n",
       "\t<tr><th scope=row>9996</th><td>5</td><td>9</td><td>9</td><td>9</td></tr>\n",
       "\t<tr><th scope=row>9997</th><td>6</td><td>9</td><td>9</td><td>9</td></tr>\n",
       "\t<tr><th scope=row>9998</th><td>7</td><td>9</td><td>9</td><td>9</td></tr>\n",
       "\t<tr><th scope=row>9999</th><td>8</td><td>9</td><td>9</td><td>9</td></tr>\n",
       "\t<tr><th scope=row>10000</th><td>9</td><td>9</td><td>9</td><td>9</td></tr>\n",
       "</tbody>\n",
       "</table>\n"
      ],
      "text/latex": [
       "A data.frame: 20 × 4\n",
       "\\begin{tabular}{r|llll}\n",
       "  & Var1 & Var2 & Var3 & Var4\\\\\n",
       "  & <int> & <int> & <int> & <int>\\\\\n",
       "\\hline\n",
       "\t9981 & 0 & 8 & 9 & 9\\\\\n",
       "\t9982 & 1 & 8 & 9 & 9\\\\\n",
       "\t9983 & 2 & 8 & 9 & 9\\\\\n",
       "\t9984 & 3 & 8 & 9 & 9\\\\\n",
       "\t9985 & 4 & 8 & 9 & 9\\\\\n",
       "\t9986 & 5 & 8 & 9 & 9\\\\\n",
       "\t9987 & 6 & 8 & 9 & 9\\\\\n",
       "\t9988 & 7 & 8 & 9 & 9\\\\\n",
       "\t9989 & 8 & 8 & 9 & 9\\\\\n",
       "\t9990 & 9 & 8 & 9 & 9\\\\\n",
       "\t9991 & 0 & 9 & 9 & 9\\\\\n",
       "\t9992 & 1 & 9 & 9 & 9\\\\\n",
       "\t9993 & 2 & 9 & 9 & 9\\\\\n",
       "\t9994 & 3 & 9 & 9 & 9\\\\\n",
       "\t9995 & 4 & 9 & 9 & 9\\\\\n",
       "\t9996 & 5 & 9 & 9 & 9\\\\\n",
       "\t9997 & 6 & 9 & 9 & 9\\\\\n",
       "\t9998 & 7 & 9 & 9 & 9\\\\\n",
       "\t9999 & 8 & 9 & 9 & 9\\\\\n",
       "\t10000 & 9 & 9 & 9 & 9\\\\\n",
       "\\end{tabular}\n"
      ],
      "text/markdown": [
       "\n",
       "A data.frame: 20 × 4\n",
       "\n",
       "| <!--/--> | Var1 &lt;int&gt; | Var2 &lt;int&gt; | Var3 &lt;int&gt; | Var4 &lt;int&gt; |\n",
       "|---|---|---|---|---|\n",
       "| 9981 | 0 | 8 | 9 | 9 |\n",
       "| 9982 | 1 | 8 | 9 | 9 |\n",
       "| 9983 | 2 | 8 | 9 | 9 |\n",
       "| 9984 | 3 | 8 | 9 | 9 |\n",
       "| 9985 | 4 | 8 | 9 | 9 |\n",
       "| 9986 | 5 | 8 | 9 | 9 |\n",
       "| 9987 | 6 | 8 | 9 | 9 |\n",
       "| 9988 | 7 | 8 | 9 | 9 |\n",
       "| 9989 | 8 | 8 | 9 | 9 |\n",
       "| 9990 | 9 | 8 | 9 | 9 |\n",
       "| 9991 | 0 | 9 | 9 | 9 |\n",
       "| 9992 | 1 | 9 | 9 | 9 |\n",
       "| 9993 | 2 | 9 | 9 | 9 |\n",
       "| 9994 | 3 | 9 | 9 | 9 |\n",
       "| 9995 | 4 | 9 | 9 | 9 |\n",
       "| 9996 | 5 | 9 | 9 | 9 |\n",
       "| 9997 | 6 | 9 | 9 | 9 |\n",
       "| 9998 | 7 | 9 | 9 | 9 |\n",
       "| 9999 | 8 | 9 | 9 | 9 |\n",
       "| 10000 | 9 | 9 | 9 | 9 |\n",
       "\n"
      ],
      "text/plain": [
       "      Var1 Var2 Var3 Var4\n",
       "9981  0    8    9    9   \n",
       "9982  1    8    9    9   \n",
       "9983  2    8    9    9   \n",
       "9984  3    8    9    9   \n",
       "9985  4    8    9    9   \n",
       "9986  5    8    9    9   \n",
       "9987  6    8    9    9   \n",
       "9988  7    8    9    9   \n",
       "9989  8    8    9    9   \n",
       "9990  9    8    9    9   \n",
       "9991  0    9    9    9   \n",
       "9992  1    9    9    9   \n",
       "9993  2    9    9    9   \n",
       "9994  3    9    9    9   \n",
       "9995  4    9    9    9   \n",
       "9996  5    9    9    9   \n",
       "9997  6    9    9    9   \n",
       "9998  7    9    9    9   \n",
       "9999  8    9    9    9   \n",
       "10000 9    9    9    9   "
      ]
     },
     "metadata": {},
     "output_type": "display_data"
    }
   ],
   "source": [
    "get_all_perms <- function(size = 4) {\n",
    "  sample_space <- replicate(size, 0:9, simplify = FALSE) %>% expand.grid\n",
    "  return(sample_space)\n",
    "}\n",
    "\n",
    "get_all_perms(1)\n",
    "tail(get_all_perms(4), 20)"
   ]
  },
  {
   "cell_type": "markdown",
   "id": "d826dbff",
   "metadata": {
    "pycharm": {
     "name": "#%% md\n"
    }
   },
   "source": [
    "###  Q3\n",
    "\n",
    "* Given a fish disease that occurs with a probability of p= 0.43\n",
    "* You sampled 340 animals\n",
    "* How many of these animals should you expect to see the disease in?\n",
    "* Hint: you will need to compute the probability of each element of the sample space and find the value that has the highest probability"
   ]
  },
  {
   "cell_type": "code",
   "execution_count": 10,
   "id": "8ec880ab",
   "metadata": {
    "pycharm": {
     "name": "#%%\n"
    }
   },
   "outputs": [
    {
     "data": {
      "text/html": [
       "126"
      ],
      "text/latex": [
       "126"
      ],
      "text/markdown": [
       "126"
      ],
      "text/plain": [
       "[1] 126"
      ]
     },
     "metadata": {},
     "output_type": "display_data"
    }
   ],
   "source": [
    "rbinom(1, 340, 0.43)"
   ]
  },
  {
   "cell_type": "markdown",
   "id": "2e17347b",
   "metadata": {
    "pycharm": {
     "name": "#%% md\n"
    }
   },
   "source": [
    "### Q4\n",
    "Plot the two following distributions:\n",
    "\n",
    "$$\n",
    "x \\sim \\mathcal{N}(10, 0.5) \\\\\n",
    "y \\sim \\mathcal{N}(10.2, 0.5) \\\\\n",
    "$$\n",
    "\n",
    "* Your plot should look like the following\n",
    "![](https://www.dropbox.com/s/psrjtl6abjla7z5/sample_gaussian_plot.png?dl=1)\n",
    "\n",
    "\n",
    "* Draw 40 values from the first distribution and store them in a variable called `x_sample`\n",
    "* Draw 40 values from the second distribution and store them in a variable called `y_sample`\n",
    "  * make sure you run the following line before you sample data\n",
    "  ```set.seed(42)```\n",
    " \n",
    "* Do a `t-`test to compute the `x_sample` and `y_sample`\n",
    "  * A `t-`test compares two vectors of values and predicts if the two vectors are from the same distribution\n",
    "  * The format for the t-test in R is\n",
    " \n",
    " `t.test(x,y)` where `x` an `y` are the vectors of values we would like to compare.\n",
    "  * Look at the `p-value`, if it's smaller than say 0.05, then there is a statistically significant difference between the two datasets.\n",
    "\n",
    "* Do you agree with the conclusion of the `t-test`. In other words, would you be comfortable reporting in a publication that the data in `x_sample` and `y_sample` are statistically different?"
   ]
  },
  {
   "cell_type": "code",
   "execution_count": 33,
   "id": "756f4ec4",
   "metadata": {
    "pycharm": {
     "name": "#%%\n"
    },
    "scrolled": true
   },
   "outputs": [
    {
     "data": {
      "image/png": "[encoded data removed]",
      "text/plain": [
       "plot without title"
      ]
     },
     "metadata": {
      "image/png": {
       "height": 420,
       "width": 420
      }
     },
     "output_type": "display_data"
    }
   ],
   "source": [
    "#generating samples\n",
    "x_vals = seq(8, 12, 0.05)\n",
    "probs_1 = mapply(dnorm, x_vals, mean = 10, sd = 0.5)\n",
    "probs_2 = mapply(dnorm, x_vals, mean = 10.2, sd = 0.5)\n",
    "\n",
    "#generating plots using ggplot\n",
    "ggplot() + \n",
    "  geom_line(aes(x=x_vals, y=probs_1, color = \"red\"), size=2) +\n",
    "  geom_line(aes(x=x_vals, y=probs_2, color = \"blue\"), size=2) +\n",
    "  xlim(8,12)+\n",
    "  theme(axis.title.x = element_text(size = 24), axis.title.y = element_text(size = 24)) + \n",
    "  theme(axis.text.x = element_text(size = 18), axis.text.y = element_text(size = 18)) + \n",
    "  scale_color_manual(labels = c(\"(10, 0.5)\", \"(10.2, 0.5)\"), values = c(\"blue\", \"red\"))\n"
   ]
  },
  {
   "cell_type": "code",
   "execution_count": 32,
   "id": "67810bdb",
   "metadata": {
    "pycharm": {
     "name": "#%%\n"
    }
   },
   "outputs": [
    {
     "data": {
      "text/plain": [
       "\n",
       "\tWelch Two Sample t-test\n",
       "\n",
       "data:  x_samples and y_samples\n",
       "t = -2.1504, df = 72.3, p-value = 0.03486\n",
       "alternative hypothesis: true difference in means is not equal to 0\n",
       "95 percent confidence interval:\n",
       " -0.50040708 -0.01897381\n",
       "sample estimates:\n",
       "mean of x mean of y \n",
       " 9.980232 10.239922 \n"
      ]
     },
     "metadata": {},
     "output_type": "display_data"
    }
   ],
   "source": [
    "### drawing 40 values from the two distribution A and B\n",
    "set.seed(42)\n",
    "x_samples <- rnorm(40, 10, 0.5)\n",
    "y_samples <- rnorm(40, 10.2, 0.5)\n",
    "### run t-test\n",
    "t.test(x_samples, y_samples)"
   ]
  },
  {
   "cell_type": "markdown",
   "id": "9fedba3e",
   "metadata": {
    "pycharm": {
     "name": "#%% md\n"
    }
   },
   "source": [
    "### Q5\n",
    "\n",
    "* We have used the function `dnorm` to plot the bell-shaped curve for a distribution $ x \\sim \\mathcal{N}(10, 0.5)$\n",
    "  * Use seq(8, 12, 0.1) to generate the x-axis values\n",
    "  * The pdf should look like the following\n",
    "\n",
    "![](https://www.dropbox.com/s/jl2c2atpkxze7ev/sample_pdf_sum_question.png?dl=1)\n",
    "\n",
    "* Use `dnorm` to compute the probability density for each point along the $x-$axis generated using `seq()` above\n",
    "  * What do you notice? Hint, sum the values obtained\n",
    "  \n"
   ]
  },
  {
   "cell_type": "code",
   "execution_count": 13,
   "id": "0b2f83bd",
   "metadata": {
    "scrolled": true
   },
   "outputs": [
    {
     "data": {
      "text/html": [
       "9.99959885434281"
      ],
      "text/latex": [
       "9.99959885434281"
      ],
      "text/markdown": [
       "9.99959885434281"
      ],
      "text/plain": [
       "[1] 9.999599"
      ]
     },
     "metadata": {},
     "output_type": "display_data"
    },
    {
     "data": {
      "image/png": "[encoded data removed]",
      "text/plain": [
       "plot without title"
      ]
     },
     "metadata": {
      "image/png": {
       "height": 420,
       "width": 420
      }
     },
     "output_type": "display_data"
    }
   ],
   "source": [
    "x_vals_2 <- seq(8, 12, 0.1)\n",
    "\n",
    "probs_3 = mapply(dnorm, x_vals_2, mean = 10, sd = 0.5)\n",
    "\n",
    "ggplot() + \n",
    "  geom_line(aes(x=x_vals_2, y = probs_3)) +\n",
    "  xlim(8,12)+\n",
    "  theme(axis.title.x = element_text(size = 12), axis.title.y = element_text(size = 12))\n",
    "\n",
    "\n",
    "sum(dnorm(x_vals_2, 10, 0.5))\n",
    "\n",
    "##JH sum of all probability of x values generated with seq() is ~9.99 which is does not sum to 1\n"
   ]
  },
  {
   "cell_type": "markdown",
   "id": "99b70ba3",
   "metadata": {
    "pycharm": {
     "name": "#%%\n"
    }
   },
   "source": [
    "### Q6 Optional Challenge\n",
    "\n",
    "What transformation can you carry out to tranform the value to actual probabilities, i.e., values that sum to 1.  Write code to test whether your hypothesis works."
   ]
  },
  {
   "cell_type": "code",
   "execution_count": 31,
   "id": "7ec5aa60",
   "metadata": {},
   "outputs": [
    {
     "data": {
      "text/html": [
       "0.957940652563652"
      ],
      "text/latex": [
       "0.957940652563652"
      ],
      "text/markdown": [
       "0.957940652563652"
      ],
      "text/plain": [
       "[1] 0.9579407"
      ]
     },
     "metadata": {},
     "output_type": "display_data"
    }
   ],
   "source": []
  }
 ],
 "metadata": {
  "kernelspec": {
   "display_name": "R",
   "language": "R",
   "name": "ir"
  },
  "language_info": {
   "codemirror_mode": "r",
   "file_extension": ".r",
   "mimetype": "text/x-r-source",
   "name": "R",
   "pygments_lexer": "r",
   "version": "4.1.3"
  }
 },
 "nbformat": 4,
 "nbformat_minor": 5
}
