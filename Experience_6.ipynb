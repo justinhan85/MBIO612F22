{
 "cells": [
  {
   "cell_type": "code",
   "execution_count": 9,
   "id": "e3ff195c",
   "metadata": {
    "scrolled": true
   },
   "outputs": [],
   "source": [
    "library(tidyverse)"
   ]
  },
  {
   "cell_type": "markdown",
   "id": "d0486091",
   "metadata": {},
   "source": [
    "Let's use the code provided below to generate a dataset representing two populations, each sampled from a Guassian with a specific population mean. Here I am generating only 5 samples"
   ]
  },
  {
   "cell_type": "code",
   "execution_count": 10,
   "id": "3b0a10f7",
   "metadata": {},
   "outputs": [],
   "source": [
    "set.seed(111)\n",
    "data_1 = tibble(measure=rnorm(5, 10, 1))\n",
    "data_1$site_name <- 'Site 1'\n",
    "data_2 = tibble(measure=rnorm(5, 12, 1))\n",
    "data_2$site_name <- 'Site 2'\n",
    "complete_data = rbind(data_1, data_2)"
   ]
  },
  {
   "cell_type": "markdown",
   "id": "e08bf2cf",
   "metadata": {},
   "source": [
    "* I compute the mean of the dataset above using the following code:\n",
    "  * feel free to deconstruct the code to see what each chunk does.\n"
   ]
  },
  {
   "cell_type": "code",
   "execution_count": 3,
   "id": "dde6ba00",
   "metadata": {},
   "outputs": [
    {
     "data": {
      "text/html": [
       "9.423927862593"
      ],
      "text/latex": [
       "9.423927862593"
      ],
      "text/markdown": [
       "9.423927862593"
      ],
      "text/plain": [
       "[1] 9.423928"
      ]
     },
     "metadata": {},
     "output_type": "display_data"
    },
    {
     "data": {
      "text/html": [
       "11.2380450656598"
      ],
      "text/latex": [
       "11.2380450656598"
      ],
      "text/markdown": [
       "11.2380450656598"
      ],
      "text/plain": [
       "[1] 11.23805"
      ]
     },
     "metadata": {},
     "output_type": "display_data"
    }
   ],
   "source": [
    "mean(complete_data[complete_data$site_name == \"Site 1\", ]$measure)\n",
    "mean(complete_data[complete_data$site_name == \"Site 2\", ]$measure)"
   ]
  },
  {
   "cell_type": "markdown",
   "id": "1ac520b8",
   "metadata": {},
   "source": [
    "* Use the `tapply` function instead of the code above to compute the means samples from \"Site 1\" and those from site 2\n",
    "  * See tapply for help if needed."
   ]
  },
  {
   "cell_type": "code",
   "execution_count": 4,
   "id": "501355df",
   "metadata": {},
   "outputs": [
    {
     "data": {
      "text/html": [
       "<style>\n",
       ".dl-inline {width: auto; margin:0; padding: 0}\n",
       ".dl-inline>dt, .dl-inline>dd {float: none; width: auto; display: inline-block}\n",
       ".dl-inline>dt::after {content: \":\\0020\"; padding-right: .5ex}\n",
       ".dl-inline>dt:not(:first-of-type) {padding-left: .5ex}\n",
       "</style><dl class=dl-inline><dt>Site 1</dt><dd>9.423927862593</dd><dt>Site 2</dt><dd>11.2380450656598</dd></dl>\n"
      ],
      "text/latex": [
       "\\begin{description*}\n",
       "\\item[Site 1] 9.423927862593\n",
       "\\item[Site 2] 11.2380450656598\n",
       "\\end{description*}\n"
      ],
      "text/markdown": [
       "Site 1\n",
       ":   9.423927862593Site 2\n",
       ":   11.2380450656598\n",
       "\n"
      ],
      "text/plain": [
       "   Site 1    Site 2 \n",
       " 9.423928 11.238045 "
      ]
     },
     "metadata": {},
     "output_type": "display_data"
    }
   ],
   "source": [
    "tapply(X = complete_data$measure, INDEX = complete_data$site_name, FUN = mean)"
   ]
  },
  {
   "cell_type": "markdown",
   "id": "fd91de00",
   "metadata": {},
   "source": [
    "Q.2 \n",
    "\n",
    "* Use the bootstrapping-procedure covered in class to assess whether there is a statistically significant difference between the data in `Site 1` and that in `Site 2`.\n",
    "\n",
    "Make sure you follow the approach discussed in class and which consists of:\n",
    "\n",
    "1. Selecting an appropriate test statistic\n",
    "2. Bootstrapping a a distribuion for the observed statistic under the null hypothesis\n",
    "3. Desciding whether to accept or reject the null based on the probability of the null\n",
    "4. provide a p-value to support your decision.\n"
   ]
  },
  {
   "cell_type": "code",
   "execution_count": 16,
   "id": "f129769f",
   "metadata": {},
   "outputs": [],
   "source": [
    "set.seed(110)\n",
    "data_1 = tibble(measure=rnorm(40, 10, 1))\n",
    "data_1$site_name <- 'Site 1'\n",
    "data_2 = tibble(measure=rnorm(40, 13, 1))\n",
    "data_2$site_name <- 'Site 2'\n",
    "complete_data <- rbind(data_1, data_2)"
   ]
  },
  {
   "cell_type": "markdown",
   "id": "36f886b6",
   "metadata": {},
   "source": [
    "#### Q2.0 \n",
    "Complete the following by describing the null and the alternative hypotheses we are testing here."
   ]
  },
  {
   "cell_type": "code",
   "execution_count": 17,
   "id": "c719444e",
   "metadata": {},
   "outputs": [
    {
     "data": {
      "text/plain": [
       "\n",
       "\tWelch Two Sample t-test\n",
       "\n",
       "data:  data_1$measure and data_2$measure\n",
       "t = -12.056, df = 74.217, p-value < 2.2e-16\n",
       "alternative hypothesis: true difference in means is not equal to 0\n",
       "95 percent confidence interval:\n",
       " -2.975853 -2.131763\n",
       "sample estimates:\n",
       "mean of x mean of y \n",
       " 10.14979  12.70360 \n"
      ]
     },
     "metadata": {},
     "output_type": "display_data"
    }
   ],
   "source": [
    "# H0: There is no difference in \"mean of measure\" between Site 1 and Site 2\n",
    "# H1: There is difference in \"mean of measure\" between Site 1 and Site 2\n",
    "t.test(data_1$measure, data_2$measure)\n",
    "#P.value (2.2e-16) indicates that we reject the null hypothesis, \n",
    "# meaning there is significantly low chance that means of measured factors between Site 1 and Site 2 are equal. "
   ]
  },
  {
   "cell_type": "markdown",
   "id": "638ce673",
   "metadata": {},
   "source": [
    "#### Q.2.1 \n",
    "\n",
    "Produce a graph similar the one below (geom_density) display the distributions. If you're using the same seed as mine, your graph will look exactly the same as the one below \n",
    "\n",
    "![](https://www.dropbox.com/s/rz5jxm84kk8ac1m/dist.png?dl=1)"
   ]
  },
  {
   "cell_type": "code",
   "execution_count": 18,
   "id": "83243f10",
   "metadata": {},
   "outputs": [
    {
     "data": {
      "image/png": "[encoded data removed]",
      "text/plain": [
       "plot without title"
      ]
     },
     "metadata": {
      "image/png": {
       "height": 420,
       "width": 420
      }
     },
     "output_type": "display_data"
    }
   ],
   "source": [
    "ggplot(complete_data, aes(x=measure, fill = site_name)) + \n",
    "  geom_density(alpha = 0.4, bw =0.65) + \n",
    "  xlim(5,18)"
   ]
  },
  {
   "cell_type": "markdown",
   "id": "2ce7e15e",
   "metadata": {},
   "source": [
    "Q2.2 Select a proper test statistic and produce a distribution of the statistic under the null hypothesis. Plot the data as both a histogram and density curves. Your graph may look like this.\n",
    "\n",
    "![](https://www.dropbox.com/s/3jarqg9swneai0r/mean_under_null.png?dl=1)"
   ]
  },
  {
   "cell_type": "code",
   "execution_count": 19,
   "id": "8d295234",
   "metadata": {},
   "outputs": [],
   "source": [
    "#selected test statistic is difference in means (of measure) of two sites (site 1 vs. site 2)\n",
    "#simulating using bootstrapping under the H0 which assume all of the data are from same distribution\n",
    "process1 <- function(data_1, data_2){\n",
    "    \n",
    "    concat_data <- c(data_1, data_2)\n",
    "    len_concat_data <- length(concat_data)\n",
    "    len_data_1 <- length(data_1)    \n",
    "    shuffled_data <- sample(concat_data)\n",
    "    new_data_1 <- shuffled_data[1:len_data_1]\n",
    "    new_data_2 <- shuffled_data[(len_data_1+1):len_concat_data]\n",
    "    mean(new_data_1) - mean(new_data_2)\n",
    "}"
   ]
  },
  {
   "cell_type": "code",
   "execution_count": 20,
   "id": "79a0224c",
   "metadata": {},
   "outputs": [],
   "source": [
    "###repeat the above process multiple times, generating data of mean differences\n",
    "mean_under_null = replicate(1000, process1(data_1$measure, data_2$measure))"
   ]
  },
  {
   "cell_type": "code",
   "execution_count": 21,
   "id": "b5869d5a",
   "metadata": {},
   "outputs": [
    {
     "data": {
      "image/png": "[encoded data removed]",
      "text/plain": [
       "plot without title"
      ]
     },
     "metadata": {
      "image/png": {
       "height": 420,
       "width": 420
      }
     },
     "output_type": "display_data"
    }
   ],
   "source": [
    "###plot the data under the null\n",
    "ggplot()+\n",
    "  geom_histogram(aes(mean_under_null, y=..density..), bins =30, alpha=0.2, color=\"black\") +\n",
    "geom_density(aes(mean_under_null), bw=0.2, size=1.5) + \n",
    "  xlim(-2.5, 2.5)"
   ]
  },
  {
   "cell_type": "markdown",
   "id": "4f03ae0d",
   "metadata": {},
   "source": [
    "####  Q2.3. \n",
    "\n",
    "Calculate and plot the observed statistic on the graph you created in Q.2.2. \n"
   ]
  },
  {
   "cell_type": "code",
   "execution_count": 22,
   "id": "b48fec7c",
   "metadata": {},
   "outputs": [
    {
     "data": {
      "text/html": [
       "-2.553808107795"
      ],
      "text/latex": [
       "-2.553808107795"
      ],
      "text/markdown": [
       "-2.553808107795"
      ],
      "text/plain": [
       "[1] -2.553808"
      ]
     },
     "metadata": {},
     "output_type": "display_data"
    }
   ],
   "source": [
    "### calculating observed statistic (the actual mean difference of collected data)\n",
    "observed_value <- mean(data_1$measure) - mean(data_2$measure)\n",
    "observed_value"
   ]
  },
  {
   "cell_type": "code",
   "execution_count": 23,
   "id": "61dc84a3",
   "metadata": {},
   "outputs": [
    {
     "data": {
      "image/png": "[encoded data removed]",
      "text/plain": [
       "plot without title"
      ]
     },
     "metadata": {
      "image/png": {
       "height": 420,
       "width": 420
      }
     },
     "output_type": "display_data"
    }
   ],
   "source": [
    "### plotting the observed value into the simulated null distribution (likelihood of observed data)\n",
    "ggplot()+\n",
    "  geom_histogram(aes(mean_under_null, y=..density..), bins =30, alpha=0.2, color=\"black\") + \n",
    "  geom_density(aes(mean_under_null), bw=0.2, size=0.5) + \n",
    "  xlim(-5, 5) + \n",
    "  geom_point(aes(observed_value, 0), color=\"red\", size=5)"
   ]
  },
  {
   "cell_type": "markdown",
   "id": "99019862",
   "metadata": {},
   "source": [
    "#### Q2.4 \n",
    "compute the p-vlaue of the observed statistic under the null. What do you conclude about the hypotheses you enunciated in Q"
   ]
  },
  {
   "cell_type": "code",
   "execution_count": 24,
   "id": "6cde1d1c",
   "metadata": {},
   "outputs": [
    {
     "data": {
      "text/html": [
       "0"
      ],
      "text/latex": [
       "0"
      ],
      "text/markdown": [
       "0"
      ],
      "text/plain": [
       "[1] 0"
      ]
     },
     "metadata": {},
     "output_type": "display_data"
    }
   ],
   "source": [
    "### ratio(%) of our observed value is equal or larger than the null distribution by chance is 0\n",
    "sum(mean_under_null <= observed_value) / length(mean_under_null)"
   ]
  },
  {
   "cell_type": "markdown",
   "id": "71226301",
   "metadata": {},
   "source": [
    "#### Q.3 \n",
    "\n",
    "* The proportion of the of _P. lobata_, _M. capitata_ and _P. mendrina_ at a site X are c(0.60, 0.19, 0.21).\n",
    "* You surveyed site Y with different environmental conditions and obtains the following proportions for the three corals (0.61, 0.19, 0.20). Use the multinomial non-parametric hypotheses test to assess whether the proportions obtained at sites X and Y are statistically different.\n",
    "\n",
    "\n",
    "Although not explicitly required, your test should cover all the steps in Q2, i.e. appropriate graph(s) when possible, test statistics, and conclusion."
   ]
  },
  {
   "cell_type": "code",
   "execution_count": 25,
   "id": "2b9a55a8",
   "metadata": {},
   "outputs": [],
   "source": [
    "###creating table\n",
    "species = c('P. lobata','P. lobata','M. capitata','M. capitata','P. meandrina','P. meandrina')\n",
    "proportion = c(0.60, 0.61, 0.19, 0.19, 0.21, 0.20)\n",
    "sites = rep(c(\"Site_X\", \"Site_Y\"), 3)\n",
    "coral_prop <- tibble(species, proportion, sites)"
   ]
  },
  {
   "cell_type": "code",
   "execution_count": 26,
   "id": "139d1189",
   "metadata": {},
   "outputs": [
    {
     "data": {
      "image/png": "[encoded data removed]",
      "text/plain": [
       "plot without title"
      ]
     },
     "metadata": {
      "image/png": {
       "height": 420,
       "width": 420
      }
     },
     "output_type": "display_data"
    }
   ],
   "source": [
    "###checking with bar plot\n",
    "ggplot(coral_prop, aes(fill=sites, y=proportion, x=species)) + \n",
    "    geom_bar(position=\"dodge\", stat=\"identity\") + \n",
    "    coord_flip()"
   ]
  },
  {
   "cell_type": "code",
   "execution_count": 27,
   "id": "49fb57c0",
   "metadata": {},
   "outputs": [
    {
     "data": {
      "text/html": [
       "0.01"
      ],
      "text/latex": [
       "0.01"
      ],
      "text/markdown": [
       "0.01"
      ],
      "text/plain": [
       "[1] 0.01"
      ]
     },
     "metadata": {},
     "output_type": "display_data"
    }
   ],
   "source": [
    "#H0: The observed difference between both site is due to sampling\n",
    "#HA: The difference is too big to be due to random chance alone\n",
    "#Test statistics: quantify the distance between two distributions using the **total variation distance**\n",
    "subtract_abs = function(x){\n",
    "    abs(x[1] - x[2])\n",
    "}\n",
    "sum(tapply(coral_prop$proportion, coral_prop$species, subtract_abs))/2"
   ]
  },
  {
   "cell_type": "code",
   "execution_count": 28,
   "id": "1f897db3",
   "metadata": {},
   "outputs": [
    {
     "data": {
      "text/html": [
       "<table class=\"dataframe\">\n",
       "<caption>A matrix: 3 × 1 of type dbl</caption>\n",
       "<tbody>\n",
       "\t<tr><td>0.615</td></tr>\n",
       "\t<tr><td>0.205</td></tr>\n",
       "\t<tr><td>0.180</td></tr>\n",
       "</tbody>\n",
       "</table>\n"
      ],
      "text/latex": [
       "A matrix: 3 × 1 of type dbl\n",
       "\\begin{tabular}{l}\n",
       "\t 0.615\\\\\n",
       "\t 0.205\\\\\n",
       "\t 0.180\\\\\n",
       "\\end{tabular}\n"
      ],
      "text/markdown": [
       "\n",
       "A matrix: 3 × 1 of type dbl\n",
       "\n",
       "| 0.615 |\n",
       "| 0.205 |\n",
       "| 0.180 |\n",
       "\n"
      ],
      "text/plain": [
       "     [,1] \n",
       "[1,] 0.615\n",
       "[2,] 0.205\n",
       "[3,] 0.180"
      ]
     },
     "metadata": {},
     "output_type": "display_data"
    }
   ],
   "source": [
    "#Generating data under null using Multinomial distribution\n",
    "rmultinom(1, 200, prob=c(0.60, 0.19, 0.21))/200"
   ]
  },
  {
   "cell_type": "code",
   "execution_count": 29,
   "id": "73829e88",
   "metadata": {},
   "outputs": [
    {
     "data": {
      "text/html": [
       "0.06"
      ],
      "text/latex": [
       "0.06"
      ],
      "text/markdown": [
       "0.06"
      ],
      "text/plain": [
       "[1] 0.06"
      ]
     },
     "metadata": {},
     "output_type": "display_data"
    }
   ],
   "source": [
    "#Simulating Hypothesis\n",
    "#Generate a random sample using the multinomial distributions and the observed proportions\n",
    "sampleOneIteration <- function(){\n",
    "    true_proportions <- c(0.60, 0.19, 0.21)\n",
    "    sample_proportions <- rmultinom(1, 200, prob=c(0.61, 0.19, 0.20))/200\n",
    "    sample_tvd <- sum(abs(true_proportions- sample_proportions))/2\n",
    "    sample_tvd   \n",
    "}\n",
    "sampleOneIteration()"
   ]
  },
  {
   "cell_type": "code",
   "execution_count": 30,
   "id": "27ad17be",
   "metadata": {},
   "outputs": [
    {
     "data": {
      "text/html": [
       "0.955"
      ],
      "text/latex": [
       "0.955"
      ],
      "text/markdown": [
       "0.955"
      ],
      "text/plain": [
       "[1] 0.955"
      ]
     },
     "metadata": {},
     "output_type": "display_data"
    },
    {
     "data": {
      "image/png": "[encoded data removed]",
      "text/plain": [
       "plot without title"
      ]
     },
     "metadata": {
      "image/png": {
       "height": 420,
       "width": 420
      }
     },
     "output_type": "display_data"
    }
   ],
   "source": [
    "#Compute and store the sample `tvd` to build the background distribution\n",
    "tvds <- replicate(1000, sampleOneIteration())\n",
    "#Compare the observed value against the data simulated under the null hypothesis\n",
    "observed_stat <- sum(tapply(coral_prop$proportion, coral_prop$species, subtract_abs))/2\n",
    "ggplot()+ \n",
    "  geom_histogram(aes(tvds, ..density..), bins = 15) +\n",
    "  geom_point(aes(observed_stat, 0), size=5, color=\"red\")"
   ]
  },
  {
   "cell_type": "code",
   "execution_count": 32,
   "id": "954055dc",
   "metadata": {},
   "outputs": [
    {
     "data": {
      "text/html": [
       "0.955"
      ],
      "text/latex": [
       "0.955"
      ],
      "text/markdown": [
       "0.955"
      ],
      "text/plain": [
       "[1] 0.955"
      ]
     },
     "metadata": {},
     "output_type": "display_data"
    }
   ],
   "source": [
    "#p.values\n",
    "p_value <- sum(tvds > observed_stat)  / length(tvds)\n",
    "p_value\n",
    "#P.vale (0.948) indicates that we failed to reject the H0\n",
    "#meaning the obtained difference between the sample and true proportion (tvd) is almost likely \n",
    "#due to random chance."
   ]
  }
 ],
 "metadata": {
  "kernelspec": {
   "display_name": "R",
   "language": "R",
   "name": "ir"
  },
  "language_info": {
   "codemirror_mode": "r",
   "file_extension": ".r",
   "mimetype": "text/x-r-source",
   "name": "R",
   "pygments_lexer": "r",
   "version": "4.1.3"
  }
 },
 "nbformat": 4,
 "nbformat_minor": 5
}
